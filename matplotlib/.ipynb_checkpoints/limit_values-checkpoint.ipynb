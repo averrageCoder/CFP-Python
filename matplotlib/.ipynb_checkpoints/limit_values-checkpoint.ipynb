{
 "cells": [
  {
   "cell_type": "markdown",
   "id": "5b92f1b8",
   "metadata": {},
   "source": [
    "#  9. Write a Python program to display the current axis limits values and set new axis values. "
   ]
  },
  {
   "cell_type": "code",
   "execution_count": null,
   "id": "5eba1d68",
   "metadata": {},
   "outputs": [],
   "source": []
  }
 ],
 "metadata": {
  "kernelspec": {
   "display_name": "Python 3",
   "language": "python",
   "name": "python3"
  },
  "language_info": {
   "codemirror_mode": {
    "name": "ipython",
    "version": 3
   },
   "file_extension": ".py",
   "mimetype": "text/x-python",
   "name": "python",
   "nbconvert_exporter": "python",
   "pygments_lexer": "ipython3",
   "version": "3.6.9"
  }
 },
 "nbformat": 4,
 "nbformat_minor": 5
}
